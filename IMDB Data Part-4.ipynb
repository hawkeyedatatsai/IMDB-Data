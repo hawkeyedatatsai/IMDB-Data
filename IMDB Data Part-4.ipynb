{
 "cells": [
  {
   "cell_type": "code",
   "execution_count": null,
   "id": "22d22b1f",
   "metadata": {},
   "outputs": [],
   "source": [
    "# imports\n",
    "import pymysql\n",
    "pymysql.install_as_MySQLdb()\n",
    "from sqlalchemy import create_engine\n",
    "from sqlalchemy.types import *\n",
    "from sqlalchemy_utils import database_exists\n",
    "import pandas as pd\n",
    "import numpy as np\n",
    "import matplotlib.pyplot as plt\n",
    "import seaborn as sns\n",
    "import scipy.stats as stats\n",
    "from statsmodels.stats.multicomp import pairwise_tukeyhsd\n",
    "import statsmodels.stats.multicomp as mc"
   ]
  },
  {
   "cell_type": "markdown",
   "id": "8cd638a8",
   "metadata": {},
   "source": [
    "# Questions to Answer"
   ]
  },
  {
   "cell_type": "markdown",
   "id": "90cdb455",
   "metadata": {},
   "source": [
    "\n",
    "## Q1: Does the MPAA rating of a movie (G/PG/PG-13/R) affect how much revenue the movie generates?\n",
    "\n"
   ]
  },
  {
   "cell_type": "markdown",
   "id": "5ed7b9a3",
   "metadata": {},
   "source": [
    "### State your Null Hypothesis and Alternative Hypothesis\n",
    "\n",
    "Null Hypothesis: No difference between mpaa rating and movie revenue.\n",
    "\n",
    "Alternative Hypothesis: There is difference between mpaa rating and movie revenue."
   ]
  },
  {
   "cell_type": "markdown",
   "id": "baa60f18",
   "metadata": {},
   "source": [
    "### Select the correct test according to the data type and number of samples\n",
    "\n",
    "it is a four sample numercial data, so I will perform ANOVA and/or Tukey test.\n",
    "\n"
   ]
  },
  {
   "cell_type": "markdown",
   "id": "318f07c2",
   "metadata": {},
   "source": [
    "### Test the assumptions of your selected test"
   ]
  },
  {
   "cell_type": "markdown",
   "id": "bfcd0fb1",
   "metadata": {},
   "source": [
    "### Test Execution (Kruskal-Wallis)"
   ]
  },
  {
   "cell_type": "markdown",
   "id": "1b87847c",
   "metadata": {},
   "source": [
    "### p-value Interpretation"
   ]
  },
  {
   "cell_type": "markdown",
   "id": "bd9efa93",
   "metadata": {},
   "source": [
    "### Test Execution (Kruskal-Wallis)"
   ]
  },
  {
   "cell_type": "markdown",
   "id": "26c847ed",
   "metadata": {},
   "source": [
    "### p-value Interpretation"
   ]
  },
  {
   "cell_type": "markdown",
   "id": "8737659a",
   "metadata": {},
   "source": [
    "### supporting visualization "
   ]
  }
 ],
 "metadata": {
  "kernelspec": {
   "display_name": "Python (dojo-env)",
   "language": "python",
   "name": "dojo-env"
  },
  "language_info": {
   "codemirror_mode": {
    "name": "ipython",
    "version": 3
   },
   "file_extension": ".py",
   "mimetype": "text/x-python",
   "name": "python",
   "nbconvert_exporter": "python",
   "pygments_lexer": "ipython3",
   "version": "3.9.15"
  },
  "toc": {
   "base_numbering": 1,
   "nav_menu": {},
   "number_sections": false,
   "sideBar": true,
   "skip_h1_title": false,
   "title_cell": "Table of Contents",
   "title_sidebar": "Contents",
   "toc_cell": false,
   "toc_position": {},
   "toc_section_display": true,
   "toc_window_display": false
  }
 },
 "nbformat": 4,
 "nbformat_minor": 5
}
